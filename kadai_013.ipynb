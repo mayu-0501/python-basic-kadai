{
  "nbformat": 4,
  "nbformat_minor": 0,
  "metadata": {
    "colab": {
      "provenance": []
    },
    "kernelspec": {
      "name": "python3",
      "display_name": "Python 3"
    },
    "language_info": {
      "name": "python"
    }
  },
  "cells": [
    {
      "cell_type": "code",
      "source": [
        "def calculate_total(price):\n",
        "  total = price\n",
        "\n",
        "  print(f\"{total}円\")\n",
        "\n",
        "  print(f\"{total * 1.1}円\")\n",
        "\n",
        "calculate_total(1200)"
      ],
      "metadata": {
        "colab": {
          "base_uri": "https://localhost:8080/"
        },
        "id": "Sbj1n7BXscOx",
        "outputId": "6f47c2a2-dbb4-44b3-ca1d-e949c5d57b6d"
      },
      "execution_count": 4,
      "outputs": [
        {
          "output_type": "stream",
          "name": "stdout",
          "text": [
            "1200円\n",
            "1320.0円\n"
          ]
        }
      ]
    }
  ]
}