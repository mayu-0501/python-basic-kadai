{
  "nbformat": 4,
  "nbformat_minor": 0,
  "metadata": {
    "colab": {
      "provenance": []
    },
    "kernelspec": {
      "name": "python3",
      "display_name": "Python 3"
    },
    "language_info": {
      "name": "python"
    }
  },
  "cells": [
    {
      "cell_type": "code",
      "execution_count": 1,
      "metadata": {
        "colab": {
          "base_uri": "https://localhost:8080/"
        },
        "id": "W91iCSbvlryP",
        "outputId": "3313a0eb-f5ca-4177-f294-5908a192625c"
      },
      "outputs": [
        {
          "output_type": "stream",
          "name": "stdout",
          "text": [
            "晴れ\n",
            "晴れ\n"
          ]
        }
      ],
      "source": [
        "array_name = {\"月曜日\": \"晴れ\", \"火曜日\": \"雨\", \"水曜日\": \"晴れ\", \"木曜日\": \"晴れ\", \"金曜日\": \"曇り\", \"土曜日\": \"曇りのち雨\", \"日曜日\": \"雷雨\"}\n",
        "\n",
        "print(array_name[\"水曜日\"])\n",
        "\n",
        "dictionary_name = {\"mon\": \"晴れ\", \"tue\": \"雨\", \"wed\": \"晴れ\", \"thu\": \"晴れ\", \"fri\": \"曇り\", \"sat\": \"曇りのち雨\", \"sun\": \"雷雨\"}\n",
        "\n",
        "print(dictionary_name[\"wed\"])\n"
      ]
    }
  ]
}