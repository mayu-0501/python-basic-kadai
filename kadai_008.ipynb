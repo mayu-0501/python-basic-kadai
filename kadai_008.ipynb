{
  "nbformat": 4,
  "nbformat_minor": 0,
  "metadata": {
    "colab": {
      "provenance": []
    },
    "kernelspec": {
      "name": "python3",
      "display_name": "Python 3"
    },
    "language_info": {
      "name": "python"
    }
  },
  "cells": [
    {
      "cell_type": "code",
      "source": [
        "import random\n",
        "\n",
        "ver = random.randint(1, 15)\n",
        "\n",
        "\n",
        "print(ver)\n",
        "\n",
        "if ver % 15 == 0:\n",
        "   print(\"FizzBuzz\")\n",
        "\n",
        "elif ver % 3 == 0:\n",
        "  print(\"Fizz\")\n",
        "\n",
        "elif ver % 5 == 0:\n",
        "  print(\"Buzz\")\n",
        "\n",
        "else:\n",
        "  print(f\"変数{ver}の値を出力\")\n",
        "\n",
        "\n"
      ],
      "metadata": {
        "colab": {
          "base_uri": "https://localhost:8080/"
        },
        "id": "ZbPbjoQ7d51h",
        "outputId": "28fab805-24c2-4d5e-8ba0-7c4aabb53b3b"
      },
      "execution_count": 57,
      "outputs": [
        {
          "output_type": "stream",
          "name": "stdout",
          "text": [
            "14\n",
            "変数14の値を出力\n"
          ]
        }
      ]
    }
  ]
}