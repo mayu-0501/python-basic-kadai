{
  "nbformat": 4,
  "nbformat_minor": 0,
  "metadata": {
    "colab": {
      "provenance": []
    },
    "kernelspec": {
      "name": "python3",
      "display_name": "Python 3"
    },
    "language_info": {
      "name": "python"
    }
  },
  "cells": [
    {
      "cell_type": "code",
      "source": [
        "import random\n",
        "\n",
        "ver = random.randint(1, 15)\n",
        "\n",
        "\n",
        "print(ver)\n",
        "\n",
        "if ver % 3 == 0:\n",
        "  print(\"Fizz\")\n",
        "\n",
        "elif ver % 5 == 0:\n",
        "  print(\"BUZZ\")\n",
        "\n",
        "elif ver % 3 and ver % 5 == 0:\n",
        "  print(\"FizzBuzz\")\n",
        "\n",
        "else:\n",
        "  print(\"それ以外\")\n"
      ],
      "metadata": {
        "colab": {
          "base_uri": "https://localhost:8080/"
        },
        "id": "d7mjtTK7DXuB",
        "outputId": "8517a462-416a-418f-d887-378fc06d4559"
      },
      "execution_count": 85,
      "outputs": [
        {
          "output_type": "stream",
          "name": "stdout",
          "text": [
            "15\n",
            "Fizz\n"
          ]
        }
      ]
    }
  ]
}