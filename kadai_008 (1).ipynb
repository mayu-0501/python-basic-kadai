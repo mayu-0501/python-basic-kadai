{
  "nbformat": 4,
  "nbformat_minor": 0,
  "metadata": {
    "colab": {
      "provenance": []
    },
    "kernelspec": {
      "name": "python3",
      "display_name": "Python 3"
    },
    "language_info": {
      "name": "python"
    }
  },
  "cells": [
    {
      "cell_type": "code",
      "source": [
        "import random\n",
        "\n",
        "ver = random.randint(1, 15)\n",
        "\n",
        "\n",
        "print(ver)\n",
        "\n",
        "if ver % 15 == 0:\n",
        "   print(\"FizzBuzz\")\n",
        "\n",
        "elif ver % 3 == 0:\n",
        "  print(\"Fizz\")\n",
        "\n",
        "elif ver % 5 == 0:\n",
        "  print(\"Buzz\")\n",
        "\n",
        "else:\n",
        "  print(\"それ以外\")\n",
        "\n",
        "\n"
      ],
      "metadata": {
        "colab": {
          "base_uri": "https://localhost:8080/"
        },
        "id": "ZbPbjoQ7d51h",
        "outputId": "6e83095a-79e8-4a96-8d51-7e7e2ac26b2a"
      },
      "execution_count": 40,
      "outputs": [
        {
          "output_type": "stream",
          "name": "stdout",
          "text": [
            "4\n",
            "それ以外\n"
          ]
        }
      ]
    }
  ]
}