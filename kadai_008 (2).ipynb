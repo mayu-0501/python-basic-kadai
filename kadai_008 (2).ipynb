{
  "nbformat": 4,
  "nbformat_minor": 0,
  "metadata": {
    "colab": {
      "provenance": []
    },
    "kernelspec": {
      "name": "python3",
      "display_name": "Python 3"
    },
    "language_info": {
      "name": "python"
    }
  },
  "cells": [
    {
      "cell_type": "code",
      "source": [
        "import random\n",
        "\n",
        "ver = random.randint(1, 15)\n",
        "\n",
        "\n",
        "print(ver)\n",
        "\n",
        "if ver % 15 == 0:\n",
        "   print(\"FizzBuzz\")\n",
        "\n",
        "elif ver % 3 == 0:\n",
        "  print(\"Fizz\")\n",
        "\n",
        "elif ver % 5 == 0:\n",
        "  print(\"Buzz\")\n",
        "\n",
        "else:\n",
        "  print(\"\")\n",
        "\n",
        "\n"
      ],
      "metadata": {
        "colab": {
          "base_uri": "https://localhost:8080/"
        },
        "id": "ZbPbjoQ7d51h",
        "outputId": "7ac3a041-3435-41eb-b6e2-100bb262fbe4"
      },
      "execution_count": 51,
      "outputs": [
        {
          "output_type": "stream",
          "name": "stdout",
          "text": [
            "11\n",
            "\n"
          ]
        }
      ]
    }
  ]
}